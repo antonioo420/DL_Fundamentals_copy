{
 "cells": [
  {
   "cell_type": "markdown",
   "metadata": {},
   "source": [
    "# PyTorch"
   ]
  },
  {
   "cell_type": "markdown",
   "metadata": {},
   "source": [
    "## Importar librerías"
   ]
  },
  {
   "cell_type": "code",
   "execution_count": 2,
   "metadata": {},
   "outputs": [],
   "source": [
    "import numpy as np\n",
    "import matplotlib.pyplot as plt\n",
    "\n",
    "# PyTorch \n",
    "import torch\n",
    "import torch.nn as nn\n",
    "import torch.nn.functional as F"
   ]
  },
  {
   "cell_type": "markdown",
   "metadata": {},
   "source": [
    "## Importar imágenes "
   ]
  },
  {
   "cell_type": "code",
   "execution_count": 3,
   "metadata": {},
   "outputs": [
    {
     "name": "stdout",
     "output_type": "stream",
     "text": [
      "(60000, 28, 28)\n"
     ]
    }
   ],
   "source": [
    "from get_images import get_images"
   ]
  },
  {
   "cell_type": "code",
   "execution_count": 5,
   "metadata": {},
   "outputs": [],
   "source": [
    "# MNIST path\n",
    "mnist_path = './mnist_raw/'\n",
    "x_train_num, y_train_num, x_test_num, y_test_num = get_images(mnist_path)\n",
    "\n",
    "x_train = x_train_num[:50000].reshape(50000, -1).astype(float)\n",
    "y_train = y_train_num[:50000].reshape(50000, 1)\n",
    "\n",
    "x_val = x_train_num[50000:].reshape(10000, -1).astype(float)\n",
    "y_val = y_train_num[50000:].reshape(10000, 1)\n",
    "\n",
    "x_test = x_test_num.copy().reshape(10000, -1).astype(float)\n",
    "y_test = y_test_num.copy().reshape(10000, 1)"
   ]
  },
  {
   "cell_type": "markdown",
   "metadata": {},
   "source": [
    "## Normalizar imágenes"
   ]
  },
  {
   "cell_type": "code",
   "execution_count": 6,
   "metadata": {},
   "outputs": [],
   "source": [
    "def normalise(x_mean, x_std, x_data):\n",
    "    return (x_data - x_mean) / x_std"
   ]
  },
  {
   "cell_type": "code",
   "execution_count": 7,
   "metadata": {},
   "outputs": [],
   "source": [
    "x_mean = x_train.mean()\n",
    "x_std = x_train.std()\n",
    "\n",
    "x_train = normalise(x_mean, x_std, x_train)\n",
    "x_val = normalise(x_mean, x_std, x_val)\n",
    "x_test = normalise(x_mean, x_std, x_test)"
   ]
  },
  {
   "cell_type": "code",
   "execution_count": 8,
   "metadata": {},
   "outputs": [
    {
     "data": {
      "text/plain": [
       "(-9.646705203355238e-18, 0.9999999999999997)"
      ]
     },
     "execution_count": 8,
     "metadata": {},
     "output_type": "execute_result"
    }
   ],
   "source": [
    "x_train.mean(), x_train.std()"
   ]
  },
  {
   "cell_type": "markdown",
   "metadata": {},
   "source": [
    "## Mostrar imágenes "
   ]
  },
  {
   "cell_type": "code",
   "execution_count": 9,
   "metadata": {},
   "outputs": [
    {
     "data": {
      "text/plain": [
       "(10000, 784)"
      ]
     },
     "execution_count": 9,
     "metadata": {},
     "output_type": "execute_result"
    }
   ],
   "source": [
    "x_test.shape"
   ]
  },
  {
   "cell_type": "code",
   "execution_count": 8,
   "metadata": {},
   "outputs": [
    {
     "data": {
      "text/plain": [
       "(50000, 1)"
      ]
     },
     "execution_count": 8,
     "metadata": {},
     "output_type": "execute_result"
    }
   ],
   "source": [
    "y_train.shape"
   ]
  },
  {
   "cell_type": "code",
   "execution_count": 10,
   "metadata": {},
   "outputs": [],
   "source": [
    "def plot_number(image):\n",
    "    plt.figure(figsize=(5,5))\n",
    "    plt.imshow(image.squeeze(), cmap=plt.get_cmap('gray'))\n",
    "    plt.axis('off')\n",
    "    plt.show()"
   ]
  },
  {
   "cell_type": "code",
   "execution_count": 11,
   "metadata": {},
   "outputs": [
    {
     "name": "stdout",
     "output_type": "stream",
     "text": [
      "La imagen muestreada representa un: 4\n"
     ]
    },
    {
     "data": {
      "image/png": "[encoded data removed]",
      "text/plain": [
       "<Figure size 500x500 with 1 Axes>"
      ]
     },
     "metadata": {},
     "output_type": "display_data"
    }
   ],
   "source": [
    "rnd_idx = np.random.randint(len(y_test))\n",
    "print(f'La imagen muestreada representa un: {y_test[rnd_idx, 0]}')\n",
    "plot_number(x_test_num[rnd_idx])"
   ]
  },
  {
   "cell_type": "markdown",
   "metadata": {},
   "source": [
    "## Crear minibatches "
   ]
  },
  {
   "cell_type": "code",
   "execution_count": 12,
   "metadata": {},
   "outputs": [],
   "source": [
    "def create_minibatches(x, y, mb_size, shuffle = True):\n",
    "    '''\n",
    "    x  #muestras, 784\n",
    "    y #muestras, 1\n",
    "    '''\n",
    "    assert x.shape[0] == y.shape[0], 'Error en cantidad de muestras'\n",
    "    total_data = x.shape[0]\n",
    "    if shuffle: \n",
    "        idxs = np.arange(total_data)\n",
    "        np.random.shuffle(idxs)\n",
    "        x = x[idxs]\n",
    "        y = y[idxs]  \n",
    "    return ((x[i:i+mb_size], y[i:i+mb_size]) for i in range(0, total_data, mb_size))"
   ]
  },
  {
   "cell_type": "markdown",
   "metadata": {},
   "source": [
    "## Ahora sí! PyTorch"
   ]
  },
  {
   "cell_type": "markdown",
   "metadata": {},
   "source": [
    "## Convertir Numpy array a PyTorch "
   ]
  },
  {
   "cell_type": "code",
   "execution_count": 13,
   "metadata": {},
   "outputs": [],
   "source": [
    "x_train_tensor = torch.tensor(x_train.copy())\n",
    "y_train_tensor = torch.tensor(y_train.copy())\n",
    "\n",
    "x_val_tensor = torch.tensor(x_val.copy())\n",
    "y_val_tensor = torch.tensor(y_val.copy())\n",
    "\n",
    "x_test_tensor = torch.tensor(x_test.copy())\n",
    "y_test_tensor = torch.tensor(y_test.copy())"
   ]
  },
  {
   "cell_type": "code",
   "execution_count": null,
   "metadata": {},
   "outputs": [],
   "source": []
  },
  {
   "cell_type": "markdown",
   "metadata": {},
   "source": [
    "\n",
    "## Usar GPU de estar disponible"
   ]
  },
  {
   "cell_type": "code",
   "execution_count": 16,
   "metadata": {},
   "outputs": [
    {
     "name": "stdout",
     "output_type": "stream",
     "text": [
      "Estamos usando: cpu\n"
     ]
    }
   ],
   "source": [
    "if torch.cuda.is_available():\n",
    "    device = torch.device('cuda')\n",
    "else:\n",
    "    device = torch.device('cpu')\n",
    "print(f'Estamos usando: {device}')"
   ]
  },
  {
   "cell_type": "markdown",
   "metadata": {},
   "source": [
    "## Compute accuracy "
   ]
  },
  {
   "cell_type": "code",
   "execution_count": 17,
   "metadata": {},
   "outputs": [],
   "source": [
    "def accuracy(model, x, y, mb_size):\n",
    "    num_correct = 0\n",
    "    num_total = 0\n",
    "    model.eval()\n",
    "    model = model.to(device=device)\n",
    "    with torch.no_grad():\n",
    "        for (xi, yi) in create_minibatches(x, y, mb_size):\n",
    "            xi = xi.to(device=device, dtype = torch.float32)\n",
    "            yi = yi.to(device=device, dtype = torch.long)\n",
    "            scores = model(xi) # mb_size, 10\n",
    "            _, pred = scores.max(dim=1) #pred shape (mb_size )\n",
    "            num_correct += (pred == yi.squeeze()).sum() # pred shape (mb_size), yi shape (mb_size, 1)\n",
    "            num_total += pred.size(0)\n",
    "\n",
    "            return float(num_correct)/num_total     \n",
    "            "
   ]
  },
  {
   "cell_type": "markdown",
   "metadata": {},
   "source": [
    "## Loop de entrenamiento"
   ]
  },
  {
   "cell_type": "code",
   "execution_count": 18,
   "metadata": {},
   "outputs": [],
   "source": [
    "def train(model, optimiser, mb_size, epochs=100):\n",
    "    model = model.to(device=device)\n",
    "    for epoch in range(epochs):\n",
    "        for (xi, yi) in create_minibatches(x_train_tensor, y_train_tensor, mb_size):\n",
    "            model.train()\n",
    "            xi = xi.to(device=device, dtype=torch.float32)\n",
    "            yi = yi.to(device=device, dtype=torch.long)\n",
    "            scores = model(xi)\n",
    "            # funcion cost\n",
    "            cost = F.cross_entropy(input= scores, target=yi.squeeze())\n",
    "            optimiser.zero_grad()\n",
    "            cost.backward()\n",
    "            optimiser.step()\n",
    "            \n",
    "        print(f'Epoch: {epoch}, costo: {cost.item()}, accuracy: {accuracy(model, x_val_tensor, y_val_tensor, mb_size)}')\n",
    "    "
   ]
  },
  {
   "cell_type": "markdown",
   "metadata": {},
   "source": [
    "## Modelo usando Sequential"
   ]
  },
  {
   "cell_type": "code",
   "execution_count": 19,
   "metadata": {
    "scrolled": true
   },
   "outputs": [
    {
     "name": "stdout",
     "output_type": "stream",
     "text": [
      "Epoch: 0, costo: 1.9420706033706665, accuracy: 0.722412109375\n",
      "Epoch: 1, costo: 1.3456183671951294, accuracy: 0.793701171875\n",
      "Epoch: 2, costo: 0.8819848299026489, accuracy: 0.858154296875\n",
      "Epoch: 3, costo: 0.7015677690505981, accuracy: 0.87353515625\n",
      "Epoch: 4, costo: 0.5350155234336853, accuracy: 0.876708984375\n",
      "Epoch: 5, costo: 0.5002322196960449, accuracy: 0.88818359375\n",
      "Epoch: 6, costo: 0.47857755422592163, accuracy: 0.89697265625\n",
      "Epoch: 7, costo: 0.41586315631866455, accuracy: 0.9052734375\n",
      "Epoch: 8, costo: 0.3774408996105194, accuracy: 0.906005859375\n",
      "Epoch: 9, costo: 0.399216890335083, accuracy: 0.906494140625\n",
      "Epoch: 10, costo: 0.3512497544288635, accuracy: 0.906494140625\n",
      "Epoch: 11, costo: 0.34998074173927307, accuracy: 0.912109375\n",
      "Epoch: 12, costo: 0.2774534821510315, accuracy: 0.915283203125\n",
      "Epoch: 13, costo: 0.35442590713500977, accuracy: 0.912353515625\n",
      "Epoch: 14, costo: 0.3610650897026062, accuracy: 0.91650390625\n",
      "Epoch: 15, costo: 0.31486764550209045, accuracy: 0.922607421875\n",
      "Epoch: 16, costo: 0.3342686891555786, accuracy: 0.923095703125\n",
      "Epoch: 17, costo: 0.30059924721717834, accuracy: 0.919677734375\n",
      "Epoch: 18, costo: 0.25799360871315, accuracy: 0.92431640625\n",
      "Epoch: 19, costo: 0.2745743989944458, accuracy: 0.921875\n",
      "Epoch: 20, costo: 0.29061728715896606, accuracy: 0.927490234375\n",
      "Epoch: 21, costo: 0.2806622385978699, accuracy: 0.92626953125\n",
      "Epoch: 22, costo: 0.28754040598869324, accuracy: 0.928466796875\n",
      "Epoch: 23, costo: 0.29225438833236694, accuracy: 0.924072265625\n",
      "Epoch: 24, costo: 0.25143465399742126, accuracy: 0.92626953125\n",
      "Epoch: 25, costo: 0.22149255871772766, accuracy: 0.931640625\n",
      "Epoch: 26, costo: 0.25677114725112915, accuracy: 0.932861328125\n",
      "Epoch: 27, costo: 0.26475444436073303, accuracy: 0.932373046875\n",
      "Epoch: 28, costo: 0.2105993926525116, accuracy: 0.93115234375\n",
      "Epoch: 29, costo: 0.28327879309654236, accuracy: 0.935302734375\n",
      "Epoch: 30, costo: 0.26174628734588623, accuracy: 0.93212890625\n",
      "Epoch: 31, costo: 0.20463034510612488, accuracy: 0.937744140625\n",
      "Epoch: 32, costo: 0.24907304346561432, accuracy: 0.935302734375\n",
      "Epoch: 33, costo: 0.2359813153743744, accuracy: 0.94091796875\n",
      "Epoch: 34, costo: 0.2406521886587143, accuracy: 0.940185546875\n",
      "Epoch: 35, costo: 0.24458645284175873, accuracy: 0.93701171875\n",
      "Epoch: 36, costo: 0.22060751914978027, accuracy: 0.94091796875\n",
      "Epoch: 37, costo: 0.21915729343891144, accuracy: 0.939208984375\n",
      "Epoch: 38, costo: 0.18579408526420593, accuracy: 0.938720703125\n",
      "Epoch: 39, costo: 0.2158013880252838, accuracy: 0.946044921875\n",
      "Epoch: 40, costo: 0.18334433436393738, accuracy: 0.94140625\n",
      "Epoch: 41, costo: 0.18092124164104462, accuracy: 0.94482421875\n",
      "Epoch: 42, costo: 0.2058398276567459, accuracy: 0.940185546875\n",
      "Epoch: 43, costo: 0.15299370884895325, accuracy: 0.944580078125\n",
      "Epoch: 44, costo: 0.2149478793144226, accuracy: 0.947509765625\n",
      "Epoch: 45, costo: 0.17123450338840485, accuracy: 0.945556640625\n",
      "Epoch: 46, costo: 0.17153237760066986, accuracy: 0.947998046875\n",
      "Epoch: 47, costo: 0.17926502227783203, accuracy: 0.9501953125\n",
      "Epoch: 48, costo: 0.2055722177028656, accuracy: 0.946533203125\n",
      "Epoch: 49, costo: 0.2068871408700943, accuracy: 0.95068359375\n",
      "Epoch: 50, costo: 0.18846014142036438, accuracy: 0.95068359375\n",
      "Epoch: 51, costo: 0.20257613062858582, accuracy: 0.946533203125\n",
      "Epoch: 52, costo: 0.17622217535972595, accuracy: 0.952392578125\n",
      "Epoch: 53, costo: 0.15259726345539093, accuracy: 0.955810546875\n",
      "Epoch: 54, costo: 0.19823041558265686, accuracy: 0.956298828125\n",
      "Epoch: 55, costo: 0.17627862095832825, accuracy: 0.950927734375\n",
      "Epoch: 56, costo: 0.16353432834148407, accuracy: 0.9521484375\n",
      "Epoch: 57, costo: 0.14299778640270233, accuracy: 0.954345703125\n",
      "Epoch: 58, costo: 0.201192244887352, accuracy: 0.950439453125\n",
      "Epoch: 59, costo: 0.13541258871555328, accuracy: 0.95849609375\n",
      "Epoch: 60, costo: 0.1417253613471985, accuracy: 0.94921875\n",
      "Epoch: 61, costo: 0.14946332573890686, accuracy: 0.95556640625\n",
      "Epoch: 62, costo: 0.16227513551712036, accuracy: 0.95556640625\n",
      "Epoch: 63, costo: 0.17922250926494598, accuracy: 0.95703125\n",
      "Epoch: 64, costo: 0.1268969625234604, accuracy: 0.964599609375\n",
      "Epoch: 65, costo: 0.1838221400976181, accuracy: 0.95849609375\n",
      "Epoch: 66, costo: 0.14250339567661285, accuracy: 0.953369140625\n",
      "Epoch: 67, costo: 0.15789496898651123, accuracy: 0.95751953125\n",
      "Epoch: 68, costo: 0.13843369483947754, accuracy: 0.957763671875\n",
      "Epoch: 69, costo: 0.13637585937976837, accuracy: 0.9638671875\n",
      "Epoch: 70, costo: 0.16391052305698395, accuracy: 0.962158203125\n",
      "Epoch: 71, costo: 0.16274698078632355, accuracy: 0.96435546875\n",
      "Epoch: 72, costo: 0.14754396677017212, accuracy: 0.960205078125\n",
      "Epoch: 73, costo: 0.13073846697807312, accuracy: 0.958740234375\n",
      "Epoch: 74, costo: 0.15749219059944153, accuracy: 0.961669921875\n",
      "Epoch: 75, costo: 0.12152022123336792, accuracy: 0.963134765625\n",
      "Epoch: 76, costo: 0.12396305799484253, accuracy: 0.9619140625\n",
      "Epoch: 77, costo: 0.16255144774913788, accuracy: 0.9599609375\n",
      "Epoch: 78, costo: 0.13985471427440643, accuracy: 0.962890625\n",
      "Epoch: 79, costo: 0.1441810131072998, accuracy: 0.966796875\n",
      "Epoch: 80, costo: 0.16571104526519775, accuracy: 0.9658203125\n",
      "Epoch: 81, costo: 0.13743522763252258, accuracy: 0.965087890625\n",
      "Epoch: 82, costo: 0.13450878858566284, accuracy: 0.965087890625\n",
      "Epoch: 83, costo: 0.11197653412818909, accuracy: 0.96484375\n",
      "Epoch: 84, costo: 0.13470786809921265, accuracy: 0.9609375\n",
      "Epoch: 85, costo: 0.12107250839471817, accuracy: 0.96337890625\n",
      "Epoch: 86, costo: 0.13254095613956451, accuracy: 0.964599609375\n",
      "Epoch: 87, costo: 0.10429227352142334, accuracy: 0.9658203125\n",
      "Epoch: 88, costo: 0.12052766978740692, accuracy: 0.963134765625\n",
      "Epoch: 89, costo: 0.12765587866306305, accuracy: 0.96630859375\n",
      "Epoch: 90, costo: 0.10306660085916519, accuracy: 0.967041015625\n",
      "Epoch: 91, costo: 0.1271253377199173, accuracy: 0.96533203125\n",
      "Epoch: 92, costo: 0.11443819105625153, accuracy: 0.9658203125\n",
      "Epoch: 93, costo: 0.11903202533721924, accuracy: 0.96435546875\n",
      "Epoch: 94, costo: 0.11005011200904846, accuracy: 0.962890625\n",
      "Epoch: 95, costo: 0.1020122766494751, accuracy: 0.967529296875\n",
      "Epoch: 96, costo: 0.09102543443441391, accuracy: 0.968017578125\n",
      "Epoch: 97, costo: 0.10776421427726746, accuracy: 0.968505859375\n",
      "Epoch: 98, costo: 0.11857675015926361, accuracy: 0.9658203125\n",
      "Epoch: 99, costo: 0.11049818247556686, accuracy: 0.970458984375\n"
     ]
    }
   ],
   "source": [
    "#Instanciar modelo\n",
    "hidden1 = 1000 \n",
    "hidden = 1000\n",
    "lr = 5e-2\n",
    "epochs = 100\n",
    "mb_size = 4096\n",
    "model1 = nn.Sequential(nn.Linear(in_features=784, out_features=hidden1), nn.ReLU(),\n",
    "                       nn.Linear(in_features=hidden1, out_features=hidden), nn.ReLU(),\n",
    "                       nn.Linear(in_features=hidden, out_features=10))\n",
    "optimiser = torch.optim.SGD(model1.parameters(), lr=lr)\n",
    "\n",
    "train(model1, optimiser, mb_size, epochs)"
   ]
  },
  {
   "cell_type": "code",
   "execution_count": 32,
   "metadata": {},
   "outputs": [
    {
     "data": {
      "text/plain": [
       "0.959228515625"
      ]
     },
     "execution_count": 32,
     "metadata": {},
     "output_type": "execute_result"
    }
   ],
   "source": [
    "accuracy(model1, x_test_tensor,  y_test_tensor, mb_size)"
   ]
  }
 ],
 "metadata": {
  "kernelspec": {
   "display_name": "venv",
   "language": "python",
   "name": "python3"
  },
  "language_info": {
   "codemirror_mode": {
    "name": "ipython",
    "version": 3
   },
   "file_extension": ".py",
   "mimetype": "text/x-python",
   "name": "python",
   "nbconvert_exporter": "python",
   "pygments_lexer": "ipython3",
   "version": "3.8.10"
  },
  "toc": {
   "base_numbering": 1,
   "nav_menu": {},
   "number_sections": true,
   "sideBar": true,
   "skip_h1_title": false,
   "title_cell": "Table of Contents",
   "title_sidebar": "Contents",
   "toc_cell": false,
   "toc_position": {},
   "toc_section_display": true,
   "toc_window_display": false
  },
  "varInspector": {
   "cols": {
    "lenName": 16,
    "lenType": 16,
    "lenVar": 40
   },
   "kernels_config": {
    "python": {
     "delete_cmd_postfix": "",
     "delete_cmd_prefix": "del ",
     "library": "var_list.py",
     "varRefreshCmd": "print(var_dic_list())"
    },
    "r": {
     "delete_cmd_postfix": ") ",
     "delete_cmd_prefix": "rm(",
     "library": "var_list.r",
     "varRefreshCmd": "cat(var_dic_list()) "
    }
   },
   "types_to_exclude": [
    "module",
    "function",
    "builtin_function_or_method",
    "instance",
    "_Feature"
   ],
   "window_display": false
  }
 },
 "nbformat": 4,
 "nbformat_minor": 4
}
